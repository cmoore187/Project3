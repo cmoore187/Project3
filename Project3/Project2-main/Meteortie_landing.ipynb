{
 "cells": [
  {
   "cell_type": "code",
   "execution_count": 2,
   "metadata": {},
   "outputs": [
    {
     "data": {
      "text/html": "<div>\n<style scoped>\n    .dataframe tbody tr th:only-of-type {\n        vertical-align: middle;\n    }\n\n    .dataframe tbody tr th {\n        vertical-align: top;\n    }\n\n    .dataframe thead th {\n        text-align: right;\n    }\n</style>\n<table border=\"1\" class=\"dataframe\">\n  <thead>\n    <tr style=\"text-align: right;\">\n      <th></th>\n      <th>name</th>\n      <th>id</th>\n      <th>nametype</th>\n      <th>recclass</th>\n      <th>mass</th>\n      <th>fall</th>\n      <th>year</th>\n      <th>reclat</th>\n      <th>reclong</th>\n      <th>GeoLocation</th>\n    </tr>\n  </thead>\n  <tbody>\n    <tr>\n      <th>0</th>\n      <td>Aachen</td>\n      <td>1</td>\n      <td>Valid</td>\n      <td>L5</td>\n      <td>21.0</td>\n      <td>Fell</td>\n      <td>1880.0</td>\n      <td>50.77500</td>\n      <td>6.08333</td>\n      <td>(50.775000, 6.083330)</td>\n    </tr>\n    <tr>\n      <th>1</th>\n      <td>Aarhus</td>\n      <td>2</td>\n      <td>Valid</td>\n      <td>H6</td>\n      <td>720.0</td>\n      <td>Fell</td>\n      <td>1951.0</td>\n      <td>56.18333</td>\n      <td>10.23333</td>\n      <td>(56.183330, 10.233330)</td>\n    </tr>\n    <tr>\n      <th>2</th>\n      <td>Abee</td>\n      <td>6</td>\n      <td>Valid</td>\n      <td>EH4</td>\n      <td>107000.0</td>\n      <td>Fell</td>\n      <td>1952.0</td>\n      <td>54.21667</td>\n      <td>-113.00000</td>\n      <td>(54.216670, -113.000000)</td>\n    </tr>\n    <tr>\n      <th>3</th>\n      <td>Acapulco</td>\n      <td>10</td>\n      <td>Valid</td>\n      <td>Acapulcoite</td>\n      <td>1914.0</td>\n      <td>Fell</td>\n      <td>1976.0</td>\n      <td>16.88333</td>\n      <td>-99.90000</td>\n      <td>(16.883330, -99.900000)</td>\n    </tr>\n    <tr>\n      <th>4</th>\n      <td>Achiras</td>\n      <td>370</td>\n      <td>Valid</td>\n      <td>L6</td>\n      <td>780.0</td>\n      <td>Fell</td>\n      <td>1902.0</td>\n      <td>-33.16667</td>\n      <td>-64.95000</td>\n      <td>(-33.166670, -64.950000)</td>\n    </tr>\n    <tr>\n      <th>...</th>\n      <td>...</td>\n      <td>...</td>\n      <td>...</td>\n      <td>...</td>\n      <td>...</td>\n      <td>...</td>\n      <td>...</td>\n      <td>...</td>\n      <td>...</td>\n      <td>...</td>\n    </tr>\n    <tr>\n      <th>45711</th>\n      <td>Zillah 002</td>\n      <td>31356</td>\n      <td>Valid</td>\n      <td>Eucrite</td>\n      <td>172.0</td>\n      <td>Found</td>\n      <td>1990.0</td>\n      <td>29.03700</td>\n      <td>17.01850</td>\n      <td>(29.037000, 17.018500)</td>\n    </tr>\n    <tr>\n      <th>45712</th>\n      <td>Zinder</td>\n      <td>30409</td>\n      <td>Valid</td>\n      <td>Pallasite, ungrouped</td>\n      <td>46.0</td>\n      <td>Found</td>\n      <td>1999.0</td>\n      <td>13.78333</td>\n      <td>8.96667</td>\n      <td>(13.783330, 8.966670)</td>\n    </tr>\n    <tr>\n      <th>45713</th>\n      <td>Zlin</td>\n      <td>30410</td>\n      <td>Valid</td>\n      <td>H4</td>\n      <td>3.3</td>\n      <td>Found</td>\n      <td>1939.0</td>\n      <td>49.25000</td>\n      <td>17.66667</td>\n      <td>(49.250000, 17.666670)</td>\n    </tr>\n    <tr>\n      <th>45714</th>\n      <td>Zubkovsky</td>\n      <td>31357</td>\n      <td>Valid</td>\n      <td>L6</td>\n      <td>2167.0</td>\n      <td>Found</td>\n      <td>2003.0</td>\n      <td>49.78917</td>\n      <td>41.50460</td>\n      <td>(49.789170, 41.504600)</td>\n    </tr>\n    <tr>\n      <th>45715</th>\n      <td>Zulu Queen</td>\n      <td>30414</td>\n      <td>Valid</td>\n      <td>L3.7</td>\n      <td>200.0</td>\n      <td>Found</td>\n      <td>1976.0</td>\n      <td>33.98333</td>\n      <td>-115.68333</td>\n      <td>(33.983330, -115.683330)</td>\n    </tr>\n  </tbody>\n</table>\n<p>45716 rows × 10 columns</p>\n</div>",
      "text/plain": "             name     id nametype              recclass      mass   fall  \\\n0          Aachen      1    Valid                    L5      21.0   Fell   \n1          Aarhus      2    Valid                    H6     720.0   Fell   \n2            Abee      6    Valid                   EH4  107000.0   Fell   \n3        Acapulco     10    Valid           Acapulcoite    1914.0   Fell   \n4         Achiras    370    Valid                    L6     780.0   Fell   \n...           ...    ...      ...                   ...       ...    ...   \n45711  Zillah 002  31356    Valid               Eucrite     172.0  Found   \n45712      Zinder  30409    Valid  Pallasite, ungrouped      46.0  Found   \n45713        Zlin  30410    Valid                    H4       3.3  Found   \n45714   Zubkovsky  31357    Valid                    L6    2167.0  Found   \n45715  Zulu Queen  30414    Valid                  L3.7     200.0  Found   \n\n         year    reclat    reclong               GeoLocation  \n0      1880.0  50.77500    6.08333     (50.775000, 6.083330)  \n1      1951.0  56.18333   10.23333    (56.183330, 10.233330)  \n2      1952.0  54.21667 -113.00000  (54.216670, -113.000000)  \n3      1976.0  16.88333  -99.90000   (16.883330, -99.900000)  \n4      1902.0 -33.16667  -64.95000  (-33.166670, -64.950000)  \n...       ...       ...        ...                       ...  \n45711  1990.0  29.03700   17.01850    (29.037000, 17.018500)  \n45712  1999.0  13.78333    8.96667     (13.783330, 8.966670)  \n45713  1939.0  49.25000   17.66667    (49.250000, 17.666670)  \n45714  2003.0  49.78917   41.50460    (49.789170, 41.504600)  \n45715  1976.0  33.98333 -115.68333  (33.983330, -115.683330)  \n\n[45716 rows x 10 columns]"
     },
     "execution_count": 2,
     "metadata": {},
     "output_type": "execute_result"
    }
   ],
   "source": [
    "# Dependencies and Setup\n",
    "import matplotlib.pyplot as plt\n",
    "import pandas as pd\n",
    "\n",
    "# Files to load\n",
    "meteorite_landing = \"Data/meteorite-landings2.csv\"\n",
    "\n",
    "# Read files and store into Pandas data frames\n",
    "meteorite_landing = pd.read_csv(meteorite_landing)\n",
    "\n",
    "meteorite_landing"
   ]
  },
  {
   "cell_type": "code",
   "execution_count": 3,
   "metadata": {},
   "outputs": [
    {
     "data": {
      "text/html": "<div>\n<style scoped>\n    .dataframe tbody tr th:only-of-type {\n        vertical-align: middle;\n    }\n\n    .dataframe tbody tr th {\n        vertical-align: top;\n    }\n\n    .dataframe thead th {\n        text-align: right;\n    }\n</style>\n<table border=\"1\" class=\"dataframe\">\n  <thead>\n    <tr style=\"text-align: right;\">\n      <th></th>\n      <th>name</th>\n      <th>id</th>\n      <th>nametype</th>\n      <th>recclass</th>\n      <th>mass</th>\n      <th>fall</th>\n      <th>year</th>\n      <th>reclat</th>\n      <th>reclong</th>\n      <th>GeoLocation</th>\n    </tr>\n  </thead>\n  <tbody>\n    <tr>\n      <th>0</th>\n      <td>Aachen</td>\n      <td>1</td>\n      <td>Valid</td>\n      <td>L5</td>\n      <td>21.0</td>\n      <td>Fell</td>\n      <td>1880.0</td>\n      <td>50.77500</td>\n      <td>6.08333</td>\n      <td>(50.775000, 6.083330)</td>\n    </tr>\n    <tr>\n      <th>1</th>\n      <td>Aarhus</td>\n      <td>2</td>\n      <td>Valid</td>\n      <td>H6</td>\n      <td>720.0</td>\n      <td>Fell</td>\n      <td>1951.0</td>\n      <td>56.18333</td>\n      <td>10.23333</td>\n      <td>(56.183330, 10.233330)</td>\n    </tr>\n    <tr>\n      <th>2</th>\n      <td>Abee</td>\n      <td>6</td>\n      <td>Valid</td>\n      <td>EH4</td>\n      <td>107000.0</td>\n      <td>Fell</td>\n      <td>1952.0</td>\n      <td>54.21667</td>\n      <td>-113.00000</td>\n      <td>(54.216670, -113.000000)</td>\n    </tr>\n    <tr>\n      <th>3</th>\n      <td>Acapulco</td>\n      <td>10</td>\n      <td>Valid</td>\n      <td>Acapulcoite</td>\n      <td>1914.0</td>\n      <td>Fell</td>\n      <td>1976.0</td>\n      <td>16.88333</td>\n      <td>-99.90000</td>\n      <td>(16.883330, -99.900000)</td>\n    </tr>\n    <tr>\n      <th>4</th>\n      <td>Achiras</td>\n      <td>370</td>\n      <td>Valid</td>\n      <td>L6</td>\n      <td>780.0</td>\n      <td>Fell</td>\n      <td>1902.0</td>\n      <td>-33.16667</td>\n      <td>-64.95000</td>\n      <td>(-33.166670, -64.950000)</td>\n    </tr>\n    <tr>\n      <th>...</th>\n      <td>...</td>\n      <td>...</td>\n      <td>...</td>\n      <td>...</td>\n      <td>...</td>\n      <td>...</td>\n      <td>...</td>\n      <td>...</td>\n      <td>...</td>\n      <td>...</td>\n    </tr>\n    <tr>\n      <th>1103</th>\n      <td>Zhuanghe</td>\n      <td>30408</td>\n      <td>Valid</td>\n      <td>H5</td>\n      <td>2900.0</td>\n      <td>Fell</td>\n      <td>1976.0</td>\n      <td>39.66667</td>\n      <td>122.98333</td>\n      <td>(39.666670, 122.983330)</td>\n    </tr>\n    <tr>\n      <th>1104</th>\n      <td>Zmenj</td>\n      <td>30411</td>\n      <td>Valid</td>\n      <td>Howardite</td>\n      <td>246.0</td>\n      <td>Fell</td>\n      <td>1858.0</td>\n      <td>51.83333</td>\n      <td>26.83333</td>\n      <td>(51.833330, 26.833330)</td>\n    </tr>\n    <tr>\n      <th>1105</th>\n      <td>Zomba</td>\n      <td>30412</td>\n      <td>Valid</td>\n      <td>L6</td>\n      <td>7500.0</td>\n      <td>Fell</td>\n      <td>1899.0</td>\n      <td>-15.18333</td>\n      <td>35.28333</td>\n      <td>(-15.183330, 35.283330)</td>\n    </tr>\n    <tr>\n      <th>1106</th>\n      <td>Zsadany</td>\n      <td>30413</td>\n      <td>Valid</td>\n      <td>H5</td>\n      <td>552.0</td>\n      <td>Fell</td>\n      <td>1875.0</td>\n      <td>46.93333</td>\n      <td>21.50000</td>\n      <td>(46.933330, 21.500000)</td>\n    </tr>\n    <tr>\n      <th>1107</th>\n      <td>Zvonkov</td>\n      <td>30415</td>\n      <td>Valid</td>\n      <td>H6</td>\n      <td>2568.0</td>\n      <td>Fell</td>\n      <td>1955.0</td>\n      <td>50.20000</td>\n      <td>30.25000</td>\n      <td>(50.200000, 30.250000)</td>\n    </tr>\n  </tbody>\n</table>\n<p>1107 rows × 10 columns</p>\n</div>",
      "text/plain": "          name     id nametype     recclass      mass  fall    year    reclat  \\\n0       Aachen      1    Valid           L5      21.0  Fell  1880.0  50.77500   \n1       Aarhus      2    Valid           H6     720.0  Fell  1951.0  56.18333   \n2         Abee      6    Valid          EH4  107000.0  Fell  1952.0  54.21667   \n3     Acapulco     10    Valid  Acapulcoite    1914.0  Fell  1976.0  16.88333   \n4      Achiras    370    Valid           L6     780.0  Fell  1902.0 -33.16667   \n...        ...    ...      ...          ...       ...   ...     ...       ...   \n1103  Zhuanghe  30408    Valid           H5    2900.0  Fell  1976.0  39.66667   \n1104     Zmenj  30411    Valid    Howardite     246.0  Fell  1858.0  51.83333   \n1105     Zomba  30412    Valid           L6    7500.0  Fell  1899.0 -15.18333   \n1106   Zsadany  30413    Valid           H5     552.0  Fell  1875.0  46.93333   \n1107   Zvonkov  30415    Valid           H6    2568.0  Fell  1955.0  50.20000   \n\n        reclong               GeoLocation  \n0       6.08333     (50.775000, 6.083330)  \n1      10.23333    (56.183330, 10.233330)  \n2    -113.00000  (54.216670, -113.000000)  \n3     -99.90000   (16.883330, -99.900000)  \n4     -64.95000  (-33.166670, -64.950000)  \n...         ...                       ...  \n1103  122.98333   (39.666670, 122.983330)  \n1104   26.83333    (51.833330, 26.833330)  \n1105   35.28333   (-15.183330, 35.283330)  \n1106   21.50000    (46.933330, 21.500000)  \n1107   30.25000    (50.200000, 30.250000)  \n\n[1107 rows x 10 columns]"
     },
     "execution_count": 3,
     "metadata": {},
     "output_type": "execute_result"
    }
   ],
   "source": [
    "# Narrow down the rows to include only fallen meteroties\n",
    "\n",
    "\n",
    "meteorite_fell = meteorite_landing.loc[\n",
    "    meteorite_landing[\"fall\"] == \"Fell\",:   \n",
    "]\n",
    "meteorite_fell"
   ]
  },
  {
   "cell_type": "code",
   "execution_count": 4,
   "metadata": {},
   "outputs": [],
   "source": [
    "meteorite_fell.to_csv('Data/meteorite_landing.csv')\n",
    "meteorite_fell.to_json('Data/meteorite_landing.json')"
   ]
  },
  {
   "cell_type": "code",
   "execution_count": 9,
   "metadata": {},
   "outputs": [],
   "source": [
    "meteorite_mass = meteorite_fell[[\"recclass\", \"mass\"]]\n",
    "meteorite_group = meteorite_mass.groupby([\"recclass\"])[\"mass\"].sum()\n",
    "meteorite_group = meteorite_group.reset_index()\n",
    "meteorite_group.to_json(\"Data/meteorite_mass.json\")\n"
   ]
  }
 ],
 "metadata": {
  "kernelspec": {
   "display_name": "Python 3",
   "language": "python",
   "name": "python3"
  },
  "language_info": {
   "codemirror_mode": {
    "name": "ipython",
    "version": 3
   },
   "file_extension": ".py",
   "mimetype": "text/x-python",
   "name": "python",
   "nbconvert_exporter": "python",
   "pygments_lexer": "ipython3",
   "version": "3.8.5"
  }
 },
 "nbformat": 4,
 "nbformat_minor": 4
}